{
 "cells": [
  {
   "cell_type": "markdown",
   "metadata": {},
   "source": [
    "# Part 1"
   ]
  },
  {
   "cell_type": "code",
   "execution_count": 79,
   "metadata": {},
   "outputs": [],
   "source": [
    "import numpy as np\n",
    "import regex as re"
   ]
  },
  {
   "cell_type": "code",
   "execution_count": 125,
   "metadata": {},
   "outputs": [],
   "source": [
    "# Open the file\n",
    "f = open(\"input_1.txt\", \"r\")\n",
    "\n",
    "# Read each line separately\n",
    "lines = f.read().split(\"\\n\")"
   ]
  },
  {
   "cell_type": "code",
   "execution_count": 81,
   "metadata": {},
   "outputs": [],
   "source": [
    "# Initialize list for numbers\n",
    "codes = []\n",
    "\n",
    "# Go through each line and look for numbers\n",
    "pattern = re.compile(r\"0|1|2|3|4|5|6|7|8|9\")\n",
    "\n",
    "for line in lines:\n",
    "    # Use regex to determine all the numbers in the line\n",
    "    line_code = pattern.findall(line)\n",
    "    codes.append(int(line_code[0] + line_code[-1]))"
   ]
  },
  {
   "cell_type": "code",
   "execution_count": 82,
   "metadata": {},
   "outputs": [
    {
     "data": {
      "text/plain": [
       "54331"
      ]
     },
     "execution_count": 82,
     "metadata": {},
     "output_type": "execute_result"
    }
   ],
   "source": [
    "# Sum of all the codes\n",
    "np.sum(codes)"
   ]
  },
  {
   "cell_type": "markdown",
   "metadata": {},
   "source": [
    "#### ANSWER: 54331"
   ]
  },
  {
   "cell_type": "markdown",
   "metadata": {},
   "source": [
    "# Part 2"
   ]
  },
  {
   "cell_type": "code",
   "execution_count": 33,
   "metadata": {},
   "outputs": [],
   "source": [
    "import regex as re"
   ]
  },
  {
   "cell_type": "code",
   "execution_count": 156,
   "metadata": {},
   "outputs": [],
   "source": [
    "# Set up regex pattern to include numbers written as words, as well as mixed words\n",
    "numbers = \"1|2|3|4|5|6|7|8|9\"\n",
    "mixed = \"twone|eighthree|eightwo|oneight|fiveight|nineight|sevenine\"\n",
    "words = \"one|two|three|four|five|six|seven|eight|nine\"\n",
    "pattern = re.compile(numbers+\"|\"+mixed+\"|\"+words)\n",
    "# Dictionary to map words to numbers\n",
    "words_to_num = {\n",
    "    \"one\": [\"1\"],\n",
    "    \"two\": [\"2\"],\n",
    "    \"three\": [\"3\"],\n",
    "    \"four\": [\"4\"],\n",
    "    \"five\": [\"5\"],\n",
    "    \"six\": [\"6\"],\n",
    "    \"seven\": [\"7\"],\n",
    "    \"eight\": [\"8\"],\n",
    "    \"nine\": [\"9\"],\n",
    "    \"twone\": [\"2\", \"1\"],\n",
    "    \"sevenine\": [\"7\", \"9\"],\n",
    "    \"eighthree\": [\"8\", \"3\"],\n",
    "    \"eightwo\": [\"8\", \"2\"],\n",
    "    \"oneight\": [\"1\", \"8\"],\n",
    "    \"fiveight\": [\"5\", \"8\"],\n",
    "    \"nineight\": [\"9\", \"8\"],\n",
    "    \"sevenine\": [\"7\", \"9\"],\n",
    "    \"0\": [\"0\"],\n",
    "    \"1\": [\"1\"],\n",
    "    \"2\": [\"2\"],\n",
    "    \"3\": [\"3\"],\n",
    "    \"4\": [\"4\"],\n",
    "    \"5\": [\"5\"],\n",
    "    \"6\": [\"6\"],\n",
    "    \"7\": [\"7\"],\n",
    "    \"8\": [\"8\"],\n",
    "    \"9\": [\"9\"]\n",
    "}"
   ]
  },
  {
   "cell_type": "code",
   "execution_count": 160,
   "metadata": {},
   "outputs": [],
   "source": [
    "p2_codes = []\n",
    "\n",
    "for line in lines:\n",
    "    # Use regex to determine all the numbers in the line\n",
    "    line_code = pattern.findall(line)\n",
    "    p2_codes.append(int( words_to_num[line_code[0]][0] + words_to_num[line_code[-1]][-1] ) )"
   ]
  },
  {
   "cell_type": "code",
   "execution_count": 161,
   "metadata": {},
   "outputs": [
    {
     "data": {
      "text/plain": [
       "54518"
      ]
     },
     "execution_count": 161,
     "metadata": {},
     "output_type": "execute_result"
    }
   ],
   "source": [
    "sum(p2_codes)"
   ]
  },
  {
   "cell_type": "markdown",
   "metadata": {},
   "source": [
    "### ANSWER: 54518 "
   ]
  }
 ],
 "metadata": {
  "kernelspec": {
   "display_name": "Python 3",
   "language": "python",
   "name": "python3"
  },
  "language_info": {
   "codemirror_mode": {
    "name": "ipython",
    "version": 3
   },
   "file_extension": ".py",
   "mimetype": "text/x-python",
   "name": "python",
   "nbconvert_exporter": "python",
   "pygments_lexer": "ipython3",
   "version": "3.9.6"
  }
 },
 "nbformat": 4,
 "nbformat_minor": 2
}
