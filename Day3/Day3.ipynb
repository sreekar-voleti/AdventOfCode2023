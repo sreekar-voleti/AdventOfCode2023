{
 "cells": [
  {
   "cell_type": "markdown",
   "metadata": {},
   "source": [
    "# Part 1"
   ]
  },
  {
   "cell_type": "code",
   "execution_count": 158,
   "metadata": {},
   "outputs": [],
   "source": [
    "import numpy as np\n",
    "import itertools as it"
   ]
  },
  {
   "cell_type": "code",
   "execution_count": 27,
   "metadata": {},
   "outputs": [],
   "source": [
    "f = open(\"input_3.txt\", \"r\")\n",
    "lines = f.read().split(\"\\n\")"
   ]
  },
  {
   "cell_type": "code",
   "execution_count": 155,
   "metadata": {},
   "outputs": [],
   "source": [
    "# Turn this into an grid\n",
    "arr = []\n",
    "for line in lines:\n",
    "    arr.append(list(line))\n",
    "arr = np.array(arr)\n",
    "\n",
    "# Find all the symbols\n",
    "symbols = ['#', '$', '%', '&', '*', '+', '-', '/', '=', '@']\n",
    "symbol_bool_array = np.zeros((len(lines), len(lines[0])), bool)\n",
    "for symbol in symbols:\n",
    "    symbol_bool_array = np.logical_or(symbol_bool_array, arr == symbol)\n",
    "# Pad with false values\n",
    "symbol_bool_array = np.pad(symbol_bool_array, 1, 'constant')\n",
    "symbol_locations = np.where(symbol_bool_array)\n",
    "\n",
    "# Find all the digits\n",
    "digits = ['0', '1', '2', '3', '4', '5', '6', '7', '8', '9']\n",
    "digit_bool_array = np.zeros((len(lines), len(lines[0])), bool)\n",
    "for digit in digits:\n",
    "    digit_bool_array = np.logical_or(digit_bool_array, arr == digit)\n",
    "# Pad with false values\n",
    "digit_bool_array = np.pad(digit_bool_array, 1, 'constant')\n",
    "digit_locations = np.where(digit_bool_array)\n",
    "\n",
    "# Pad the original numpy array\n",
    "arr = np.pad(arr, 1, 'constant')\n",
    "\n",
    "running_total = []\n",
    "\n",
    "for x, y in zip(symbol_locations[0], symbol_locations[1]):\n",
    "\n",
    "    valid_starts = [1, 2, 3, 4, 5]\n",
    "    valid_ends = [4, 5, 6, 7, 8]\n",
    "\n",
    "    for del_x in [1, 0, -1]:\n",
    "        clumped_masks = np.ma.clump_unmasked(np.ma.masked_where(~digit_bool_array, arr)[x+del_x, y-4:y+5])\n",
    "        for slices in clumped_masks:\n",
    "            if slices.start in valid_starts and slices.stop in valid_ends:\n",
    "                running_total.append(int(\"\".join(arr[x+del_x, slice(y-4+slices.start, y-4+slices.stop)])))"
   ]
  },
  {
   "cell_type": "code",
   "execution_count": 157,
   "metadata": {},
   "outputs": [
    {
     "data": {
      "text/plain": [
       "507214"
      ]
     },
     "execution_count": 157,
     "metadata": {},
     "output_type": "execute_result"
    }
   ],
   "source": [
    "np.sum(running_total)"
   ]
  },
  {
   "cell_type": "markdown",
   "metadata": {},
   "source": [
    "### ANSWER: 507214"
   ]
  },
  {
   "cell_type": "markdown",
   "metadata": {},
   "source": [
    "# Part 2"
   ]
  },
  {
   "cell_type": "code",
   "execution_count": 159,
   "metadata": {},
   "outputs": [],
   "source": [
    "# Turn this into an grid\n",
    "arr = []\n",
    "for line in lines:\n",
    "    arr.append(list(line))\n",
    "arr = np.array(arr)\n",
    "\n",
    "# Find all the symbols\n",
    "symbols = ['#', '$', '%', '&', '*', '+', '-', '/', '=', '@']\n",
    "symbol_bool_array = np.zeros((len(lines), len(lines[0])), bool)\n",
    "for symbol in symbols:\n",
    "    symbol_bool_array = np.logical_or(symbol_bool_array, arr == symbol)\n",
    "# Pad with false values\n",
    "symbol_bool_array = np.pad(symbol_bool_array, 1, 'constant')\n",
    "symbol_locations = np.where(symbol_bool_array)\n",
    "\n",
    "# Find all the digits\n",
    "digits = ['0', '1', '2', '3', '4', '5', '6', '7', '8', '9']\n",
    "digit_bool_array = np.zeros((len(lines), len(lines[0])), bool)\n",
    "for digit in digits:\n",
    "    digit_bool_array = np.logical_or(digit_bool_array, arr == digit)\n",
    "# Pad with false values\n",
    "digit_bool_array = np.pad(digit_bool_array, 1, 'constant')\n",
    "digit_locations = np.where(digit_bool_array)\n",
    "\n",
    "# Pad the original numpy array\n",
    "arr = np.pad(arr, 1, 'constant')\n",
    "\n",
    "gear_ratios = []\n",
    "\n",
    "for x, y in zip(symbol_locations[0], symbol_locations[1]):\n",
    "\n",
    "    valid_starts = [1, 2, 3, 4, 5]\n",
    "    valid_ends = [4, 5, 6, 7, 8]\n",
    "\n",
    "    sub_array = []\n",
    "\n",
    "    for del_x in [1, 0, -1]:\n",
    "        clumped_masks = np.ma.clump_unmasked(np.ma.masked_where(~digit_bool_array, arr)[x+del_x, y-4:y+5])\n",
    "        for slices in clumped_masks:\n",
    "            if slices.start in valid_starts and slices.stop in valid_ends:\n",
    "                sub_array.append(int(\"\".join(arr[x+del_x, slice(y-4+slices.start, y-4+slices.stop)])))\n",
    "\n",
    "    if len(sub_array) == 2:\n",
    "        gear_ratios.append(sub_array[0] * sub_array[1])"
   ]
  },
  {
   "cell_type": "code",
   "execution_count": 160,
   "metadata": {},
   "outputs": [
    {
     "data": {
      "text/plain": [
       "72553319"
      ]
     },
     "execution_count": 160,
     "metadata": {},
     "output_type": "execute_result"
    }
   ],
   "source": [
    "np.sum(gear_ratios)"
   ]
  },
  {
   "cell_type": "markdown",
   "metadata": {},
   "source": [
    "### ANSWER: 72553319"
   ]
  }
 ],
 "metadata": {
  "kernelspec": {
   "display_name": "Python 3",
   "language": "python",
   "name": "python3"
  },
  "language_info": {
   "codemirror_mode": {
    "name": "ipython",
    "version": 3
   },
   "file_extension": ".py",
   "mimetype": "text/x-python",
   "name": "python",
   "nbconvert_exporter": "python",
   "pygments_lexer": "ipython3",
   "version": "3.9.6"
  }
 },
 "nbformat": 4,
 "nbformat_minor": 2
}
