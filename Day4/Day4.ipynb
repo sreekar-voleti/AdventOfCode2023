{
 "cells": [
  {
   "cell_type": "markdown",
   "metadata": {},
   "source": [
    "# Part 1"
   ]
  },
  {
   "cell_type": "code",
   "execution_count": 3,
   "metadata": {},
   "outputs": [],
   "source": [
    "import numpy as np\n",
    "import re"
   ]
  },
  {
   "cell_type": "code",
   "execution_count": 4,
   "metadata": {},
   "outputs": [],
   "source": [
    "f = open(\"input_4.txt\", \"r\")\n",
    "lines = f.read().split(\"\\n\")"
   ]
  },
  {
   "cell_type": "code",
   "execution_count": 5,
   "metadata": {},
   "outputs": [
    {
     "data": {
      "text/plain": [
       "21138"
      ]
     },
     "execution_count": 5,
     "metadata": {},
     "output_type": "execute_result"
    }
   ],
   "source": [
    "pattern = re.compile(r\"\\d+\")\n",
    "\n",
    "running_total = []\n",
    "\n",
    "for line in lines:\n",
    "\n",
    "    winning, obtained = line. split(\":\")[1][1:].split(\"|\")\n",
    "    winning = pattern.findall(winning)\n",
    "    obtained = pattern.findall(obtained)\n",
    "\n",
    "    counter = 0\n",
    "    # Number of matches in a line\n",
    "    for k in obtained:\n",
    "        if k in winning:\n",
    "            counter += 1\n",
    "    \n",
    "    running_total.append((counter != 0) * 2**(counter-1))\n",
    "\n",
    "int(np.sum(running_total))"
   ]
  },
  {
   "cell_type": "markdown",
   "metadata": {},
   "source": [
    "### ANSWER: 21138"
   ]
  },
  {
   "cell_type": "markdown",
   "metadata": {},
   "source": [
    "# Part 2"
   ]
  },
  {
   "cell_type": "code",
   "execution_count": 7,
   "metadata": {},
   "outputs": [
    {
     "data": {
      "text/plain": [
       "7185540"
      ]
     },
     "execution_count": 7,
     "metadata": {},
     "output_type": "execute_result"
    }
   ],
   "source": [
    "pattern = re.compile(r\"\\d+\")\n",
    "\n",
    "card_counts = np.ones(len(lines), dtype=int) \n",
    "\n",
    "for idx, line in enumerate(lines):\n",
    "\n",
    "    winning, obtained = line. split(\":\")[1][1:].split(\"|\")\n",
    "    winning = pattern.findall(winning)\n",
    "    obtained = pattern.findall(obtained)\n",
    "\n",
    "    counter = 0\n",
    "    # Number of matches in a line\n",
    "    for k in obtained:\n",
    "        if k in winning:\n",
    "            counter += 1\n",
    "    \n",
    "    try:\n",
    "        card_counts[idx+1: idx+counter+1] += card_counts[idx]\n",
    "    except IndexError:\n",
    "        card_counts[idx+1:] += card_counts[idx]\n",
    "\n",
    "# int(np.sum(running_total))\n",
    "np.sum(card_counts)"
   ]
  },
  {
   "cell_type": "markdown",
   "metadata": {},
   "source": [
    "### ANSWER: 7185540"
   ]
  }
 ],
 "metadata": {
  "kernelspec": {
   "display_name": "Python 3",
   "language": "python",
   "name": "python3"
  },
  "language_info": {
   "codemirror_mode": {
    "name": "ipython",
    "version": 3
   },
   "file_extension": ".py",
   "mimetype": "text/x-python",
   "name": "python",
   "nbconvert_exporter": "python",
   "pygments_lexer": "ipython3",
   "version": "3.11.5"
  }
 },
 "nbformat": 4,
 "nbformat_minor": 2
}
