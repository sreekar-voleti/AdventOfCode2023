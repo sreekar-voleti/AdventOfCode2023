{
 "cells": [
  {
   "cell_type": "code",
   "execution_count": 11,
   "metadata": {},
   "outputs": [],
   "source": [
    "import numpy as np\n",
    "import re"
   ]
  },
  {
   "cell_type": "code",
   "execution_count": 2,
   "metadata": {},
   "outputs": [],
   "source": [
    "f = open(\"input_4.txt\", \"r\")\n",
    "lines = f.read().split(\"\\n\")"
   ]
  },
  {
   "cell_type": "code",
   "execution_count": 22,
   "metadata": {},
   "outputs": [
    {
     "data": {
      "text/plain": [
       "21138.0"
      ]
     },
     "execution_count": 22,
     "metadata": {},
     "output_type": "execute_result"
    }
   ],
   "source": [
    "pattern = re.compile(r\"\\d+\")\n",
    "\n",
    "running_total = []\n",
    "\n",
    "for line in lines:\n",
    "\n",
    "    winning, obtained = line. split(\":\")[1][1:].split(\"|\")\n",
    "    winning = pattern.findall(winning)\n",
    "    obtained = pattern.findall(obtained)\n",
    "\n",
    "    counter = 0\n",
    "    # Number of matches in a line\n",
    "    for k in obtained:\n",
    "        if k in winning:\n",
    "            counter += 1\n",
    "    \n",
    "    running_total.append((counter != 0) * 2**(counter-1))\n",
    "\n",
    "np.sum(running_total)"
   ]
  },
  {
   "cell_type": "code",
   "execution_count": null,
   "metadata": {},
   "outputs": [],
   "source": []
  }
 ],
 "metadata": {
  "kernelspec": {
   "display_name": "Python 3",
   "language": "python",
   "name": "python3"
  },
  "language_info": {
   "codemirror_mode": {
    "name": "ipython",
    "version": 3
   },
   "file_extension": ".py",
   "mimetype": "text/x-python",
   "name": "python",
   "nbconvert_exporter": "python",
   "pygments_lexer": "ipython3",
   "version": "3.9.6"
  }
 },
 "nbformat": 4,
 "nbformat_minor": 2
}
