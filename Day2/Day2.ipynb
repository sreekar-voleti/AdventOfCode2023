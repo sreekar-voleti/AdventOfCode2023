{
 "cells": [
  {
   "cell_type": "code",
   "execution_count": 5,
   "metadata": {},
   "outputs": [],
   "source": [
    "import numpy as np\n",
    "import re"
   ]
  },
  {
   "cell_type": "markdown",
   "metadata": {},
   "source": [
    "# Part 1"
   ]
  },
  {
   "cell_type": "code",
   "execution_count": 6,
   "metadata": {},
   "outputs": [],
   "source": [
    "f = open(\"input_2.txt\", \"r\")\n",
    "\n",
    "lines = f.read().split(\"\\n\")\n",
    "\n",
    "num_reds = 12\n",
    "num_greens = 13\n",
    "num_blues = 14\n",
    "\n",
    "\n",
    "def solve_p1():\n",
    "    valid_games = []\n",
    "\n",
    "    for idx, line in enumerate(lines):\n",
    "        rounds = line.split(\":\")[1].split(\";\")\n",
    "        count = 0\n",
    "        for round in rounds:\n",
    "            instances = round.split(\",\")\n",
    "            instance_check = 0\n",
    "            for instance in instances:\n",
    "                reds = 0\n",
    "                greens = 0\n",
    "                blues = 0\n",
    "                if \"red\" in instance: reds += int(re.findall(r'\\d+', instance)[0])\n",
    "                if \"green\" in instance: greens+= int(re.findall(r'\\d+', instance)[0])\n",
    "                if \"blue\" in instance: blues+= int(re.findall(r'\\d+', instance)[0])\n",
    "                instance_check += (reds <= num_reds) and (greens <= num_greens) and (blues <= num_blues)\n",
    "            if instance_check == len(instances):\n",
    "                count += 1\n",
    "        if count == len(rounds):\n",
    "            valid_games.append(idx+1)\n",
    "    \n",
    "    return valid_games"
   ]
  },
  {
   "cell_type": "code",
   "execution_count": 47,
   "metadata": {},
   "outputs": [
    {
     "data": {
      "text/plain": [
       "2795"
      ]
     },
     "execution_count": 47,
     "metadata": {},
     "output_type": "execute_result"
    }
   ],
   "source": [
    "np.sum(valid_games)"
   ]
  },
  {
   "cell_type": "markdown",
   "metadata": {},
   "source": [
    "### ANSWER: 2795"
   ]
  },
  {
   "cell_type": "markdown",
   "metadata": {},
   "source": [
    "# Part 2"
   ]
  },
  {
   "cell_type": "code",
   "execution_count": 59,
   "metadata": {},
   "outputs": [
    {
     "data": {
      "text/plain": [
       "75561"
      ]
     },
     "execution_count": 59,
     "metadata": {},
     "output_type": "execute_result"
    }
   ],
   "source": [
    "f = open(\"input_2.txt\", \"r\")\n",
    "\n",
    "lines = f.read().split(\"\\n\")\n",
    "\n",
    "powers = []\n",
    "\n",
    "for idx, line in enumerate(lines):\n",
    "    rounds = line.split(\":\")[1].split(\";\")\n",
    "    reds = [0]\n",
    "    greens = [0]\n",
    "    blues = [0]    \n",
    "    for round in rounds:\n",
    "        instances = round.split(\",\")\n",
    "\n",
    "        for instance in instances:\n",
    "            if \"red\" in instance: reds.append(int(re.findall(r'\\d+', instance)[0]))\n",
    "            if \"green\" in instance: greens.append(int(re.findall(r'\\d+', instance)[0]))\n",
    "            if \"blue\" in instance: blues.append(int(re.findall(r'\\d+', instance)[0]))\n",
    "    powers.append(np.max(reds) * np.max(greens) * np.max(blues))\n",
    "\n",
    "np.sum(powers)"
   ]
  },
  {
   "cell_type": "markdown",
   "metadata": {},
   "source": [
    "### ANSWER: 75561"
   ]
  }
 ],
 "metadata": {
  "kernelspec": {
   "display_name": "Python 3",
   "language": "python",
   "name": "python3"
  },
  "language_info": {
   "codemirror_mode": {
    "name": "ipython",
    "version": 3
   },
   "file_extension": ".py",
   "mimetype": "text/x-python",
   "name": "python",
   "nbconvert_exporter": "python",
   "pygments_lexer": "ipython3",
   "version": "3.9.6"
  }
 },
 "nbformat": 4,
 "nbformat_minor": 2
}
